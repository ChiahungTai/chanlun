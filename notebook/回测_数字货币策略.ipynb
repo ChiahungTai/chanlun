{
 "cells": [
  {
   "cell_type": "code",
   "execution_count": null,
   "metadata": {
    "tags": []
   },
   "outputs": [],
   "source": [
    "import pandas as pd\n",
    "from chanlun.backtesting import backtest\n",
    "from chanlun.strategy import strategy_demo"
   ]
  },
  {
   "cell_type": "markdown",
   "metadata": {},
   "source": [
    "## 注意事项\n",
    "回测前要确保已经同步回测时间段内的行情数据到数据库中\n",
    "\n",
    "同步行情数据请参考 /script/crontab/ 目录下的脚本"
   ]
  },
  {
   "cell_type": "code",
   "execution_count": null,
   "metadata": {
    "tags": []
   },
   "outputs": [],
   "source": [
    "# 量化配置\n",
    "back_config = {\n",
    "    # 策略结果保存的文件\n",
    "    'save_file': './data/bk/currency_strategy_demo.pkl',\n",
    "    # 市场配置，currency 数字货币  a 沪深  hk  港股  futures  期货\n",
    "    'market': 'currency',\n",
    "    # 回测的标的代码\n",
    "    'codes': ['BCH/USDT', 'EOS/USDT'],\n",
    "    # 回测的周期，这里设置里，在策略中才能取到对应周期的数据\n",
    "    'frequencys': ['15m'],\n",
    "    # 回测开始的时间\n",
    "    'start_datetime': '2022-02-01 00:00:00',\n",
    "    # 回测的结束时间\n",
    "    'end_datetime': '2022-04-01 00:00:00',\n",
    "    # 是否是股票，True 当日开仓不可平仓，False 当日开当日可平\n",
    "    'is_stock': False,\n",
    "    # 是否是期货，True 可做空，False 不可做空\n",
    "    'is_futures': True,\n",
    "    # 缠论计算的配置，详见缠论配置说明\n",
    "    'cl_config': {'xd_bzh': 'xd_bzh_no'},\n",
    "    # 设置策略对象\n",
    "    'strategy': strategy_demo.StrategyDemo(),\n",
    "}\n",
    "\n",
    "BT = backtest.BackTest(back_config)"
   ]
  },
  {
   "cell_type": "code",
   "execution_count": null,
   "metadata": {
    "scrolled": true,
    "tags": []
   },
   "outputs": [],
   "source": [
    "# 运行回测\n",
    "BT.run()\n",
    "# 保存回测结果到文件中\n",
    "BT.save()\n",
    "print('Done')"
   ]
  },
  {
   "cell_type": "code",
   "execution_count": null,
   "metadata": {
    "tags": []
   },
   "outputs": [],
   "source": [
    "# 输出回测结果\n",
    "BT.info()\n",
    "print(BT.result())"
   ]
  },
  {
   "cell_type": "code",
   "execution_count": null,
   "metadata": {
    "tags": []
   },
   "outputs": [],
   "source": [
    "# 回测数据展示\n",
    "BT.backtest_charts()"
   ]
  },
  {
   "cell_type": "code",
   "execution_count": null,
   "metadata": {
    "pycharm": {
     "name": "#%%\n"
    },
    "tags": []
   },
   "outputs": [],
   "source": [
    "# 显示历史持仓\n",
    "#设置显示全部行，不省略\n",
    "pd.set_option('display.max_rows',None)\n",
    "#设置显示全部列，不省略\n",
    "pd.set_option('display.max_columns',None)\n",
    "\n",
    "# 显示历史持仓\n",
    "pos_pd = BT.positions()\n",
    "pos_pd"
   ]
  },
  {
   "cell_type": "code",
   "execution_count": null,
   "metadata": {
    "tags": []
   },
   "outputs": [],
   "source": [
    "# 展示图表\n",
    "BT.show_charts(BT.codes[0], BT.frequencys[0])"
   ]
  },
  {
   "cell_type": "code",
   "execution_count": null,
   "metadata": {},
   "outputs": [],
   "source": []
  }
 ],
 "metadata": {
  "kernelspec": {
   "display_name": "Python 3 (ipykernel)",
   "language": "python",
   "name": "python3"
  },
  "language_info": {
   "codemirror_mode": {
    "name": "ipython",
    "version": 3
   },
   "file_extension": ".py",
   "mimetype": "text/x-python",
   "name": "python",
   "nbconvert_exporter": "python",
   "pygments_lexer": "ipython3",
   "version": "3.7.13"
  },
  "toc-autonumbering": true
 },
 "nbformat": 4,
 "nbformat_minor": 4
}
