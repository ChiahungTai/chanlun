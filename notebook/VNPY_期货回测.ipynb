{
 "cells": [
  {
   "cell_type": "markdown",
   "id": "db05d109-bd18-4fe4-bd2b-8344e9640fb2",
   "metadata": {},
   "source": [
    "## VNPY 回测研究\n",
    "\n",
    "这里用的 vnpy 配置在 C:\\Users\\${电脑用户名}\\.vntrader\\vt_setting.json \n",
    "\n",
    "有问题可尝试修改其中的相关配置"
   ]
  },
  {
   "cell_type": "code",
   "execution_count": null,
   "id": "c68c7adf-8b8e-4e13-89e5-80fdc316a671",
   "metadata": {
    "tags": []
   },
   "outputs": [],
   "source": [
    "from vnpy.trader.constant import Interval\n",
    "from vnpy_ctabacktester.engine import BacktestingEngine\n",
    "from datetime import datetime\n",
    "\n",
    "from cl_vnpy.strategies.base_strategy import BaseStrategy\n",
    "\n",
    "import pandas as pd"
   ]
  },
  {
   "cell_type": "code",
   "execution_count": null,
   "id": "cb1e2583-35db-40e9-8ad2-a9088ba02c64",
   "metadata": {
    "tags": []
   },
   "outputs": [],
   "source": [
    "# 初始回测引擎\n",
    "engine = BacktestingEngine()\n",
    "\n",
    "engine.set_parameters(\n",
    "    vt_symbol='ag2206.SHFE',\n",
    "    interval=Interval.MINUTE,\n",
    "    start=datetime(2022, 1, 1),\n",
    "    end=datetime(2022, 3, 1),\n",
    "    rate=0.3 / 10000,\n",
    "    slippage=0.2,\n",
    "    size=300,\n",
    "    pricetick=0.2,\n",
    "    capital=1_000_000,\n",
    ")\n",
    "\n",
    "engine.add_strategy(BaseStrategy, {})\n",
    "engine.load_data()\n",
    "engine.run_backtesting()\n"
   ]
  },
  {
   "cell_type": "code",
   "execution_count": null,
   "id": "9ecf7d8a-9e41-48d3-922e-9d7c40b01b1a",
   "metadata": {},
   "outputs": [],
   "source": [
    "#设置显示全部行，不省略\n",
    "pd.set_option('display.max_rows',None)\n",
    "#设置显示全部列，不省略\n",
    "pd.set_option('display.max_columns',None)\n",
    "\n",
    "df = engine.calculate_result()\n",
    "print(df)"
   ]
  },
  {
   "cell_type": "code",
   "execution_count": null,
   "id": "3feb8288-6149-4e59-98f7-e1c3731ea1da",
   "metadata": {
    "tags": []
   },
   "outputs": [],
   "source": [
    "engine.calculate_statistics()\n",
    "engine.show_chart()"
   ]
  },
  {
   "cell_type": "code",
   "execution_count": null,
   "id": "9f4cea32-6e36-41d9-9a14-50e735bc6a4e",
   "metadata": {
    "tags": []
   },
   "outputs": [],
   "source": [
    "orders = engine.get_all_orders()\n",
    "orders_pd = pd.DataFrame(orders)\n",
    "orders_pd"
   ]
  },
  {
   "cell_type": "code",
   "execution_count": null,
   "id": "79e058ea-db86-4a26-9d11-941628aa25f3",
   "metadata": {},
   "outputs": [],
   "source": [
    "\n",
    "engine.get_all_trades()"
   ]
  },
  {
   "cell_type": "code",
   "execution_count": null,
   "id": "d675eb3a-f589-4fd0-a2ec-90da2c2b12f2",
   "metadata": {},
   "outputs": [],
   "source": []
  }
 ],
 "metadata": {
  "kernelspec": {
   "display_name": "Python 3 (ipykernel)",
   "language": "python",
   "name": "python3"
  },
  "language_info": {
   "codemirror_mode": {
    "name": "ipython",
    "version": 3
   },
   "file_extension": ".py",
   "mimetype": "text/x-python",
   "name": "python",
   "nbconvert_exporter": "python",
   "pygments_lexer": "ipython3",
   "version": "3.7.13"
  }
 },
 "nbformat": 4,
 "nbformat_minor": 5
}
