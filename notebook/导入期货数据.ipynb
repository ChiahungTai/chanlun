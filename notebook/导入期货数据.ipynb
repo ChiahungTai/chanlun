{
 "cells": [
  {
   "cell_type": "markdown",
   "id": "8c207252-00e0-451b-bb37-5ff375ee3a91",
   "metadata": {},
   "source": [
    "# 导入期货历史数据\n",
    "\n",
    "期货数据是从 东方财富 Choice 金融终端 中导出"
   ]
  },
  {
   "cell_type": "code",
   "execution_count": 1,
   "id": "9ca16c6a-e6d6-43e3-9fee-1e25a00e3437",
   "metadata": {
    "tags": []
   },
   "outputs": [],
   "source": [
    "import pandas as pd\n",
    "\n",
    "from chanlun.exchange.exchange_db import ExchangeDB"
   ]
  },
  {
   "cell_type": "code",
   "execution_count": 2,
   "id": "c863d6a6-6fe9-4531-9e74-29c5a774519e",
   "metadata": {
    "tags": []
   },
   "outputs": [],
   "source": [
    "import_configs = [\n",
    "    {'code': 'jm0', 'frequency': '30m', 'file': './data/K线导出_JM0_30分钟数据.xls'},\n",
    "    {'code': 'jm0', 'frequency': '15m', 'file': './data/K线导出_JM0_15分钟数据.xls'},\n",
    "    {'code': 'jm0', 'frequency': '5m', 'file': './data/K线导出_JM0_5分钟数据.xls'},\n",
    "    {'code': 'jm0', 'frequency': '1m', 'file': './data/K线导出_JM0_1分钟数据.xls'},\n",
    "]\n",
    "ex = ExchangeDB('futures')"
   ]
  },
  {
   "cell_type": "code",
   "execution_count": 3,
   "id": "84729994-df97-4ff6-9236-38f58ca70fbd",
   "metadata": {
    "tags": []
   },
   "outputs": [
    {
     "name": "stdout",
     "output_type": "stream",
     "text": [
      "jm0 - 30m klines nums : 6000\n",
      "jm0 - 15m klines nums : 11498\n",
      "jm0 - 5m klines nums : 34484\n",
      "jm0 - 1m klines nums : 43245\n"
     ]
    }
   ],
   "source": [
    "for config in import_configs:\n",
    "    code = config['code']\n",
    "    frequency = config['frequency']\n",
    "    klines = pd.read_excel(config['file'])\n",
    "    klines = klines.dropna()\n",
    "    klines['code'] = klines['证券代码']\n",
    "    klines['date'] = pd.to_datetime(klines['交易时间'])\n",
    "    klines['open'] = klines['开盘价']\n",
    "    klines['high'] = klines['最高价']\n",
    "    klines['low'] = klines['最低价']\n",
    "    klines['close'] = klines['收盘价']\n",
    "    klines['volume'] = klines['成交量']\n",
    "    klines = klines[['code', 'date', 'open', 'close', 'high', 'low', 'volume']]\n",
    "    print('%s - %s klines nums : %s' % (code, frequency, len(klines)))\n",
    "    ex.create_tables([code])\n",
    "    ex.insert_klines(code, frequency, klines)\n",
    "print('导入完成')"
   ]
  },
  {
   "cell_type": "code",
   "execution_count": null,
   "id": "6bc7b373-d6dc-47af-9421-09c106c6aebb",
   "metadata": {},
   "outputs": [],
   "source": []
  }
 ],
 "metadata": {
  "kernelspec": {
   "display_name": "Python 3 (ipykernel)",
   "language": "python",
   "name": "python3"
  },
  "language_info": {
   "codemirror_mode": {
    "name": "ipython",
    "version": 3
   },
   "file_extension": ".py",
   "mimetype": "text/x-python",
   "name": "python",
   "nbconvert_exporter": "python",
   "pygments_lexer": "ipython3",
   "version": "3.7.11"
  }
 },
 "nbformat": 4,
 "nbformat_minor": 5
}