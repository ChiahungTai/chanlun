{
 "cells": [
  {
   "cell_type": "code",
   "execution_count": 4,
   "metadata": {
    "collapsed": true
   },
   "outputs": [
    {
     "data": {
      "text/plain": "<pyecharts.render.display.Javascript at 0x22581cba1c8>",
      "application/javascript": "new Promise(function(resolve, reject) {\n    var script = document.createElement(\"script\");\n    script.onload = resolve;\n    script.onerror = reject;\n    script.src = \"https://assets.pyecharts.org/assets/echarts.min.js\";\n    document.head.appendChild(script);\n}).then(() => {\n\n});"
     },
     "execution_count": 4,
     "metadata": {},
     "output_type": "execute_result"
    }
   ],
   "source": [
    "import pandas as pd\n",
    "from chanlun import cl\n",
    "from chanlun import kcharts\n",
    "\n",
    "### 避免在 Notebook 中不显示，手动加载下依赖的js\n",
    "###　https://pyecharts.org/#/zh-cn/notebook\n",
    "from pyecharts.charts import Kline, Line, Bar, Grid, Scatter\n",
    "from pyecharts.globals import CurrentConfig, NotebookType\n",
    "\n",
    "CurrentConfig.NOTEBOOK_TYPE = NotebookType.JUPYTER_LAB  # 根据使用的环境设置 notebook 类型， NotebookType.JUPYTER_LAB 或 NotebookType.JUPYTER_NOTEBOOK\n",
    "Kline().load_javascript()\n",
    "Line().load_javascript()\n",
    "Bar().load_javascript()\n",
    "Grid().load_javascript()\n",
    "Scatter().load_javascript()"
   ]
  },
  {
   "cell_type": "markdown",
   "source": [
    "## 缠论配置项\n",
    "* bi_type: 默认值 old；old 老笔 new 新笔 dd 顶底成笔\n",
    "* no_bi： 默认值 False；False 笔未出现结束分型，不计入笔；  True  笔未出结束分型，但是符合成笔条件，计入笔\n",
    "* zs_type: 默认值 dn； dn 表示根据线段，在线段内查找中枢； bl 表示遍历并查找所有符合中枢条件的中枢\n",
    "* zs_qj: 默认值 hl； hl 中枢区间使用实际的高低点； dd 中枢区间使用线的顶底端点\n",
    "* fx_baohan: 默认值 False；False 不允许有分型包含条件成笔； True 允许有分型包含成笔\n",
    "* idx_macd_fast: 默认值 12；MACD 指标快线参数\n",
    "* idx_macd_slow: 默认值 26；MACD 指标慢线参数\n",
    "* idx_macd_signal: 默认值 9；MACD 移动平均周期\n",
    "* idx_boll_period：默认值 20；布林线参数\n",
    "* idx_ma_period：默认值 5；均线参数\n",
    "\n",
    "## 画图配置\n",
    "* show_bi_zs：默认值 True；是否显示笔中枢\n",
    "* show_xd_zs：默认值 True；是否显示线段中枢\n",
    "* show_bi_mmd：默认值 True；是否显示笔的买卖点\n",
    "* show_xd_mmd：默认值 True；是否显示线段的买卖点\n",
    "* show_bi_bc：默认值 True；是否显示笔背驰\n",
    "* show_xd_bc：默认值 True；是否显示线段背驰\n",
    "* show_ma：默认值 True；是否显示均线\n",
    "* show_boll：默认值 True；是否显示布林线"
   ],
   "metadata": {
    "collapsed": false,
    "pycharm": {
     "name": "#%% md\n"
    }
   }
  },
  {
   "cell_type": "code",
   "execution_count": null,
   "outputs": [],
   "source": [
    "# 获取 行情K线数据\n",
    "code = 'SH.688122'\n",
    "frequency = '30m'\n",
    "# 缠论配置\n",
    "cl_config = {'bi_type': 'old', 'no_bi': False, 'zs_type': 'dn', 'zs_qj': 'hl', 'fx_baohan': True}\n",
    "# 缠论画图配置\n",
    "chart_config = {'show_bi_zs': True, 'show_ma': False}\n",
    "klines = pd.read_csv('./data/688122.csv')\n",
    "klines\n"
   ],
   "metadata": {
    "collapsed": false,
    "pycharm": {
     "name": "#%%\n",
     "is_executing": true
    }
   }
  },
  {
   "cell_type": "code",
   "execution_count": 6,
   "outputs": [],
   "source": [
    "# 依据 K 线数据，计算缠论数据\n",
    "cl_data = cl.CL(code, frequency, cl_config).process_klines(klines)\n",
    "chart = kcharts.render_charts('%s - %s' % (code, frequency), cl_data, config=chart_config)"
   ],
   "metadata": {
    "collapsed": false,
    "pycharm": {
     "name": "#%%\n"
    }
   }
  },
  {
   "cell_type": "code",
   "execution_count": null,
   "outputs": [],
   "source": [
    "# 展示图标\n",
    "chart"
   ],
   "metadata": {
    "collapsed": false,
    "pycharm": {
     "name": "#%%\n",
     "is_executing": true
    }
   }
  },
  {
   "cell_type": "code",
   "execution_count": 8,
   "outputs": [
    {
     "name": "stdout",
     "output_type": "stream",
     "text": [
      "Last Bi :  index: 44 type: up FX: (2022-02-22 11:00:00 - 2022-02-28 10:30:00) high: 86.63 low: 73.7 done: True\n",
      "Last Zs :  index: 8 zs_type: bi level: 0 FX: (2022-01-25 10:00:00-2022-02-16 10:00:00) type: zd zg: 81.17 zd: 74.23 gg: 83.76 dd: 73.07 done: True\n"
     ]
    }
   ],
   "source": [
    "# 获取最后一笔\n",
    "bi = cl_data.bis[-1]\n",
    "print('Last Bi : ', bi)\n",
    "# 获取最后一个中枢\n",
    "zs = cl_data.bi_zss[-1]\n",
    "print('Last Zs : ', zs)"
   ],
   "metadata": {
    "collapsed": false,
    "pycharm": {
     "name": "#%%\n"
    }
   }
  },
  {
   "cell_type": "code",
   "execution_count": 11,
   "outputs": [
    {
     "name": "stdout",
     "output_type": "stream",
     "text": [
      "BI MMDS :  ['l3sell']\n",
      "BI BC :  []\n",
      "BI 笔背驰： False\n",
      "BI 盘整背驰： False\n",
      "BI 趋势背驰： False\n"
     ]
    }
   ],
   "source": [
    "# 判断笔是否背驰，是否有买卖点\n",
    "bi = cl_data.bis[-11]\n",
    "print('BI MMDS : ', bi.line_mmds())\n",
    "print('BI BC : ', [_bc.type for _bc in bi.bcs if _bc.bc])\n",
    "print('BI 笔背驰：', bi.bc_exists(['bi']))\n",
    "print('BI 盘整背驰：', bi.bc_exists(['pz']))\n",
    "print('BI 趋势背驰：', bi.bc_exists(['qs']))"
   ],
   "metadata": {
    "collapsed": false,
    "pycharm": {
     "name": "#%%\n"
    }
   }
  },
  {
   "cell_type": "code",
   "execution_count": 12,
   "outputs": [
    {
     "name": "stdout",
     "output_type": "stream",
     "text": [
      "MMD: l3sell ZS: index: 6 zs_type: bi level: 0 FX: (2021-12-08 11:30:00-2021-12-28 11:00:00) type: up zg: 90.5 zd: 89.23 gg: 93.99 dd: 86.35 done: True\n",
      "买卖点对应的中枢： index: 6 zs_type: bi level: 0 FX: (2021-12-08 11:30:00-2021-12-28 11:00:00) type: up zg: 90.5 zd: 89.23 gg: 93.99 dd: 86.35 done: True\n"
     ]
    }
   ],
   "source": [
    "# 买卖点信息\n",
    "mmd = bi.mmds[0]\n",
    "print(mmd)\n",
    "print('买卖点对应的中枢：', mmd.zs)"
   ],
   "metadata": {
    "collapsed": false,
    "pycharm": {
     "name": "#%%\n"
    }
   }
  },
  {
   "cell_type": "markdown",
   "source": [
    "## Html 页面展示\n",
    "\n",
    "### 服务端代码\n",
    "    return HttpResponse(kcharts.render_charts('标题', cl_datas))\n",
    "\n",
    "### 页面 Ajax 接收并展示\n",
    "    var chart = echarts.init(document.getElementById('chart_id'), 'drak', {renderer: 'canvas'});\n",
    "    $.ajax({\n",
    "        type: \"GET\",\n",
    "        url: \"/后端请求地址\",\n",
    "        success: function (result) {\n",
    "            var res = (new Function(\"return \" + result))();\n",
    "            chart.setOption(res);\n",
    "        }\n",
    "    });"
   ],
   "metadata": {
    "collapsed": false,
    "pycharm": {
     "name": "#%% md\n"
    }
   }
  },
  {
   "cell_type": "code",
   "execution_count": null,
   "outputs": [],
   "source": [],
   "metadata": {
    "collapsed": false,
    "pycharm": {
     "name": "#%%\n"
    }
   }
  }
 ],
 "metadata": {
  "kernelspec": {
   "display_name": "Python 3",
   "language": "python",
   "name": "python3"
  },
  "language_info": {
   "codemirror_mode": {
    "name": "ipython",
    "version": 2
   },
   "file_extension": ".py",
   "mimetype": "text/x-python",
   "name": "python",
   "nbconvert_exporter": "python",
   "pygments_lexer": "ipython2",
   "version": "2.7.6"
  }
 },
 "nbformat": 4,
 "nbformat_minor": 0
}